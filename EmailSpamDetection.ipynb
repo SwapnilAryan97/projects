{
  "nbformat": 4,
  "nbformat_minor": 0,
  "metadata": {
    "colab": {
      "name": "EmailSpamDetection.ipynb",
      "provenance": [],
      "include_colab_link": true
    },
    "kernelspec": {
      "name": "python3",
      "display_name": "Python 3"
    },
    "accelerator": "GPU"
  },
  "cells": [
    {
      "cell_type": "markdown",
      "metadata": {
        "id": "view-in-github",
        "colab_type": "text"
      },
      "source": [
        "<a href=\"https://colab.research.google.com/github/SwapnilAryan97/projects/blob/master/EmailSpamDetection.ipynb\" target=\"_parent\"><img src=\"https://colab.research.google.com/assets/colab-badge.svg\" alt=\"Open In Colab\"/></a>"
      ]
    },
    {
      "cell_type": "markdown",
      "metadata": {
        "id": "180DPEQU9Xjp"
      },
      "source": [
        "Importing the libraries"
      ]
    },
    {
      "cell_type": "code",
      "metadata": {
        "id": "adY_438y8iBJ",
        "outputId": "dd3eeadd-1c27-4b6b-f389-9e6b20def11a",
        "colab": {
          "base_uri": "https://localhost:8080/",
          "height": 850
        }
      },
      "source": [
        "import pandas as pd\n",
        "import numpy as np\n",
        "import re\n",
        "import nltk\n",
        "nltk.download('stopwords')\n",
        "from nltk.corpus import stopwords\n",
        "from nltk.stem.porter import PorterStemmer\n",
        "\n",
        "import tensorflow as tf\n",
        "tf.test.gpu_device_name()\n",
        "from tensorflow.python.client import device_lib\n",
        "device_lib.list_local_devices()\n",
        "!cat /proc/meminfo"
      ],
      "execution_count": null,
      "outputs": [
        {
          "output_type": "stream",
          "text": [
            "[nltk_data] Downloading package stopwords to /root/nltk_data...\n",
            "[nltk_data]   Package stopwords is already up-to-date!\n",
            "MemTotal:       13333552 kB\n",
            "MemFree:         9466476 kB\n",
            "MemAvailable:   11909652 kB\n",
            "Buffers:           78392 kB\n",
            "Cached:          2393516 kB\n",
            "SwapCached:            0 kB\n",
            "Active:          1461248 kB\n",
            "Inactive:        2008828 kB\n",
            "Active(anon):     841828 kB\n",
            "Inactive(anon):     8552 kB\n",
            "Active(file):     619420 kB\n",
            "Inactive(file):  2000276 kB\n",
            "Unevictable:           0 kB\n",
            "Mlocked:               0 kB\n",
            "SwapTotal:             0 kB\n",
            "SwapFree:              0 kB\n",
            "Dirty:              1044 kB\n",
            "Writeback:             0 kB\n",
            "AnonPages:        998072 kB\n",
            "Mapped:           532060 kB\n",
            "Shmem:              9164 kB\n",
            "Slab:             175372 kB\n",
            "SReclaimable:     128604 kB\n",
            "SUnreclaim:        46768 kB\n",
            "KernelStack:        3936 kB\n",
            "PageTables:         8368 kB\n",
            "NFS_Unstable:          0 kB\n",
            "Bounce:                0 kB\n",
            "WritebackTmp:          0 kB\n",
            "CommitLimit:     6666776 kB\n",
            "Committed_AS:    3223916 kB\n",
            "VmallocTotal:   34359738367 kB\n",
            "VmallocUsed:           0 kB\n",
            "VmallocChunk:          0 kB\n",
            "Percpu:              952 kB\n",
            "AnonHugePages:         0 kB\n",
            "ShmemHugePages:        0 kB\n",
            "ShmemPmdMapped:        0 kB\n",
            "HugePages_Total:       0\n",
            "HugePages_Free:        0\n",
            "HugePages_Rsvd:        0\n",
            "HugePages_Surp:        0\n",
            "Hugepagesize:       2048 kB\n",
            "Hugetlb:               0 kB\n",
            "DirectMap4k:      234684 kB\n",
            "DirectMap2M:     7104512 kB\n",
            "DirectMap1G:     8388608 kB\n"
          ],
          "name": "stdout"
        }
      ]
    },
    {
      "cell_type": "markdown",
      "metadata": {
        "id": "zSd70m8U9i3e"
      },
      "source": [
        "Importing the dataset"
      ]
    },
    {
      "cell_type": "code",
      "metadata": {
        "id": "D3_nfeh_9jse",
        "outputId": "733deb25-96b9-469a-e113-7e7d29ed0c53",
        "colab": {
          "base_uri": "https://localhost:8080/",
          "height": 272
        }
      },
      "source": [
        "url = 'https://raw.githubusercontent.com/SwapnilAryan97/EmailSpamDetection/master/emails.csv'\n",
        "dataset = pd.read_csv(url)\n",
        "print(dataset)\n",
        "row_size = dataset.shape[0]\n",
        "print(row_size)"
      ],
      "execution_count": null,
      "outputs": [
        {
          "output_type": "stream",
          "text": [
            "                                                   text  spam\n",
            "0     Subject: naturally irresistible your corporate...     1\n",
            "1     Subject: the stock trading gunslinger  fanny i...     1\n",
            "2     Subject: unbelievable new homes made easy  im ...     1\n",
            "3     Subject: 4 color printing special  request add...     1\n",
            "4     Subject: do not have money , get software cds ...     1\n",
            "...                                                 ...   ...\n",
            "5723  Subject: re : research and development charges...     0\n",
            "5724  Subject: re : receipts from visit  jim ,  than...     0\n",
            "5725  Subject: re : enron case study update  wow ! a...     0\n",
            "5726  Subject: re : interest  david ,  please , call...     0\n",
            "5727  Subject: news : aurora 5 . 2 update  aurora ve...     0\n",
            "\n",
            "[5728 rows x 2 columns]\n",
            "5728\n"
          ],
          "name": "stdout"
        }
      ]
    },
    {
      "cell_type": "markdown",
      "metadata": {
        "id": "yv5NuoE599Tq"
      },
      "source": [
        "Cleaning the texts"
      ]
    },
    {
      "cell_type": "code",
      "metadata": {
        "id": "PSuYot1A98_o"
      },
      "source": [
        "corpus = []\n",
        "for i in range (0, row_size):\n",
        "    review = re.sub('[^a-zA-Z]', ' ', dataset['text'][i])\n",
        "    review = review.lower()\n",
        "    review = review.split()\n",
        "    ps = PorterStemmer()\n",
        "    all_stopwords = stopwords.words('english')\n",
        "    review = [ps.stem(word) for word in review if not word in set(all_stopwords)]\n",
        "    review = ' '.join(review)\n",
        "    corpus.append(review)"
      ],
      "execution_count": null,
      "outputs": []
    },
    {
      "cell_type": "markdown",
      "metadata": {
        "id": "HXXtI2K5A04J"
      },
      "source": [
        "Creating Bag of Words"
      ]
    },
    {
      "cell_type": "code",
      "metadata": {
        "id": "1Rf4qbE-BCWl"
      },
      "source": [
        "from sklearn.feature_extraction.text import CountVectorizer\n",
        "cv = CountVectorizer(max_features = len(corpus) )\n",
        "x = cv.fit_transform(corpus).toarray()\n",
        "y = dataset.iloc[:, -1].values"
      ],
      "execution_count": null,
      "outputs": []
    },
    {
      "cell_type": "markdown",
      "metadata": {
        "id": "PdOl4G6uG9Ii"
      },
      "source": [
        "Splitting dataset into Training and Testing set"
      ]
    },
    {
      "cell_type": "code",
      "metadata": {
        "id": "YFDq9woCHCKA"
      },
      "source": [
        "from sklearn.model_selection import train_test_split\n",
        "x_train, x_test, y_train, y_test = train_test_split(x, y, test_size = 0.2)"
      ],
      "execution_count": null,
      "outputs": []
    },
    {
      "cell_type": "markdown",
      "metadata": {
        "id": "KAXwaJrnNiWx"
      },
      "source": [
        "Logistic Regression"
      ]
    },
    {
      "cell_type": "code",
      "metadata": {
        "id": "uHkMqkaXM7YS",
        "outputId": "bb368786-e164-496c-af19-3dc720e4a714",
        "colab": {
          "base_uri": "https://localhost:8080/",
          "height": 102
        }
      },
      "source": [
        "from sklearn.linear_model import LogisticRegression\n",
        "classifier = LogisticRegression()\n",
        "classifier.fit(x_train, y_train)"
      ],
      "execution_count": null,
      "outputs": [
        {
          "output_type": "execute_result",
          "data": {
            "text/plain": [
              "LogisticRegression(C=1.0, class_weight=None, dual=False, fit_intercept=True,\n",
              "                   intercept_scaling=1, l1_ratio=None, max_iter=100,\n",
              "                   multi_class='auto', n_jobs=None, penalty='l2',\n",
              "                   random_state=None, solver='lbfgs', tol=0.0001, verbose=0,\n",
              "                   warm_start=False)"
            ]
          },
          "metadata": {
            "tags": []
          },
          "execution_count": 12
        }
      ]
    },
    {
      "cell_type": "markdown",
      "metadata": {
        "id": "BqlTsAAJJG03"
      },
      "source": [
        "Predicting Test Set result"
      ]
    },
    {
      "cell_type": "code",
      "metadata": {
        "id": "QtPAawulJJLO",
        "outputId": "d016733a-3d5b-4865-d331-fdd860ac07a2",
        "colab": {
          "base_uri": "https://localhost:8080/",
          "height": 136
        }
      },
      "source": [
        "y_pred = classifier.predict(x_test)\n",
        "print(np.concatenate((y_pred.reshape(len(y_pred), 1), y_test.reshape(len(y_test), 1)), 1))"
      ],
      "execution_count": null,
      "outputs": [
        {
          "output_type": "stream",
          "text": [
            "[[0 0]\n",
            " [0 0]\n",
            " [1 1]\n",
            " ...\n",
            " [0 0]\n",
            " [0 0]\n",
            " [1 1]]\n"
          ],
          "name": "stdout"
        }
      ]
    },
    {
      "cell_type": "markdown",
      "metadata": {
        "id": "RoRSqwswKA89"
      },
      "source": [
        "Making Confusion Matrix & Accuracy Score"
      ]
    },
    {
      "cell_type": "code",
      "metadata": {
        "id": "wLxq5C_WKGeU",
        "outputId": "463b9550-f7fc-4452-aa45-5192941e1afc",
        "colab": {
          "base_uri": "https://localhost:8080/",
          "height": 68
        }
      },
      "source": [
        "from sklearn.metrics import confusion_matrix, accuracy_score\n",
        "cm = confusion_matrix(y_test, y_pred)\n",
        "print(cm)\n",
        "print('Accuracy is: {:.2f}%'.format(accuracy_score(y_test, y_pred)*100))"
      ],
      "execution_count": null,
      "outputs": [
        {
          "output_type": "stream",
          "text": [
            "[[853   9]\n",
            " [  2 282]]\n",
            "Accuracy is: 99.04%\n"
          ],
          "name": "stdout"
        }
      ]
    },
    {
      "cell_type": "markdown",
      "metadata": {
        "id": "WBGB5kIbQEmx"
      },
      "source": [
        "Applying k-Fold Cross Validation"
      ]
    },
    {
      "cell_type": "code",
      "metadata": {
        "id": "HPD3w2nPQFSP",
        "outputId": "0322c5fe-b456-4f52-d6a3-6be25de88716",
        "colab": {
          "base_uri": "https://localhost:8080/",
          "height": 34
        }
      },
      "source": [
        "from sklearn.model_selection import cross_val_score\n",
        "accuracies = cross_val_score(estimator = classifier, X = x_train, y = y_train, cv = 10)\n",
        "print('Accuracy: {:.2f}%'.format(accuracies.mean()*100))"
      ],
      "execution_count": null,
      "outputs": [
        {
          "output_type": "stream",
          "text": [
            "Accuracy: 99.08%\n"
          ],
          "name": "stdout"
        }
      ]
    }
  ]
}