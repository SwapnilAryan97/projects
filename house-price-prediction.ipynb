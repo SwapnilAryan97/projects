{
 "cells": [
  {
   "cell_type": "markdown",
   "metadata": {
    "id": "KneFd7BlbSt2",
    "papermill": {
     "duration": 0.017498,
     "end_time": "2020-10-24T17:50:45.960779",
     "exception": false,
     "start_time": "2020-10-24T17:50:45.943281",
     "status": "completed"
    },
    "tags": []
   },
   "source": [
    "Importing libraries"
   ]
  },
  {
   "cell_type": "code",
   "execution_count": 1,
   "metadata": {
    "execution": {
     "iopub.execute_input": "2020-10-24T17:50:46.001154Z",
     "iopub.status.busy": "2020-10-24T17:50:46.000455Z",
     "iopub.status.idle": "2020-10-24T17:50:46.003297Z",
     "shell.execute_reply": "2020-10-24T17:50:46.002602Z"
    },
    "id": "eLLHkxLV8v63",
    "papermill": {
     "duration": 0.026199,
     "end_time": "2020-10-24T17:50:46.003454",
     "exception": false,
     "start_time": "2020-10-24T17:50:45.977255",
     "status": "completed"
    },
    "tags": []
   },
   "outputs": [],
   "source": [
    "import numpy as np\n",
    "import pandas as pd"
   ]
  },
  {
   "cell_type": "markdown",
   "metadata": {
    "id": "CZZFkZGG9qMR",
    "papermill": {
     "duration": 0.016359,
     "end_time": "2020-10-24T17:50:46.036647",
     "exception": false,
     "start_time": "2020-10-24T17:50:46.020288",
     "status": "completed"
    },
    "tags": []
   },
   "source": [
    "Importing dataset"
   ]
  },
  {
   "cell_type": "code",
   "execution_count": 2,
   "metadata": {
    "execution": {
     "iopub.execute_input": "2020-10-24T17:50:46.077055Z",
     "iopub.status.busy": "2020-10-24T17:50:46.076290Z",
     "iopub.status.idle": "2020-10-24T17:50:46.173557Z",
     "shell.execute_reply": "2020-10-24T17:50:46.173059Z"
    },
    "id": "guTrzrS49xL1",
    "outputId": "21ddf383-d5fc-440e-8fc7-02a7723368fc",
    "papermill": {
     "duration": 0.120424,
     "end_time": "2020-10-24T17:50:46.173674",
     "exception": false,
     "start_time": "2020-10-24T17:50:46.053250",
     "status": "completed"
    },
    "scrolled": true,
    "tags": []
   },
   "outputs": [
    {
     "data": {
      "text/html": [
       "<div>\n",
       "<style scoped>\n",
       "    .dataframe tbody tr th:only-of-type {\n",
       "        vertical-align: middle;\n",
       "    }\n",
       "\n",
       "    .dataframe tbody tr th {\n",
       "        vertical-align: top;\n",
       "    }\n",
       "\n",
       "    .dataframe thead th {\n",
       "        text-align: right;\n",
       "    }\n",
       "</style>\n",
       "<table border=\"1\" class=\"dataframe\">\n",
       "  <thead>\n",
       "    <tr style=\"text-align: right;\">\n",
       "      <th></th>\n",
       "      <th>Id</th>\n",
       "      <th>MSSubClass</th>\n",
       "      <th>MSZoning</th>\n",
       "      <th>LotFrontage</th>\n",
       "      <th>LotArea</th>\n",
       "      <th>Street</th>\n",
       "      <th>Alley</th>\n",
       "      <th>LotShape</th>\n",
       "      <th>LandContour</th>\n",
       "      <th>Utilities</th>\n",
       "      <th>...</th>\n",
       "      <th>ScreenPorch</th>\n",
       "      <th>PoolArea</th>\n",
       "      <th>PoolQC</th>\n",
       "      <th>Fence</th>\n",
       "      <th>MiscFeature</th>\n",
       "      <th>MiscVal</th>\n",
       "      <th>MoSold</th>\n",
       "      <th>YrSold</th>\n",
       "      <th>SaleType</th>\n",
       "      <th>SaleCondition</th>\n",
       "    </tr>\n",
       "  </thead>\n",
       "  <tbody>\n",
       "    <tr>\n",
       "      <th>0</th>\n",
       "      <td>1461</td>\n",
       "      <td>20</td>\n",
       "      <td>RH</td>\n",
       "      <td>80.0</td>\n",
       "      <td>11622</td>\n",
       "      <td>Pave</td>\n",
       "      <td>NaN</td>\n",
       "      <td>Reg</td>\n",
       "      <td>Lvl</td>\n",
       "      <td>AllPub</td>\n",
       "      <td>...</td>\n",
       "      <td>120</td>\n",
       "      <td>0</td>\n",
       "      <td>NaN</td>\n",
       "      <td>MnPrv</td>\n",
       "      <td>NaN</td>\n",
       "      <td>0</td>\n",
       "      <td>6</td>\n",
       "      <td>2010</td>\n",
       "      <td>WD</td>\n",
       "      <td>Normal</td>\n",
       "    </tr>\n",
       "    <tr>\n",
       "      <th>1</th>\n",
       "      <td>1462</td>\n",
       "      <td>20</td>\n",
       "      <td>RL</td>\n",
       "      <td>81.0</td>\n",
       "      <td>14267</td>\n",
       "      <td>Pave</td>\n",
       "      <td>NaN</td>\n",
       "      <td>IR1</td>\n",
       "      <td>Lvl</td>\n",
       "      <td>AllPub</td>\n",
       "      <td>...</td>\n",
       "      <td>0</td>\n",
       "      <td>0</td>\n",
       "      <td>NaN</td>\n",
       "      <td>NaN</td>\n",
       "      <td>Gar2</td>\n",
       "      <td>12500</td>\n",
       "      <td>6</td>\n",
       "      <td>2010</td>\n",
       "      <td>WD</td>\n",
       "      <td>Normal</td>\n",
       "    </tr>\n",
       "    <tr>\n",
       "      <th>2</th>\n",
       "      <td>1463</td>\n",
       "      <td>60</td>\n",
       "      <td>RL</td>\n",
       "      <td>74.0</td>\n",
       "      <td>13830</td>\n",
       "      <td>Pave</td>\n",
       "      <td>NaN</td>\n",
       "      <td>IR1</td>\n",
       "      <td>Lvl</td>\n",
       "      <td>AllPub</td>\n",
       "      <td>...</td>\n",
       "      <td>0</td>\n",
       "      <td>0</td>\n",
       "      <td>NaN</td>\n",
       "      <td>MnPrv</td>\n",
       "      <td>NaN</td>\n",
       "      <td>0</td>\n",
       "      <td>3</td>\n",
       "      <td>2010</td>\n",
       "      <td>WD</td>\n",
       "      <td>Normal</td>\n",
       "    </tr>\n",
       "    <tr>\n",
       "      <th>3</th>\n",
       "      <td>1464</td>\n",
       "      <td>60</td>\n",
       "      <td>RL</td>\n",
       "      <td>78.0</td>\n",
       "      <td>9978</td>\n",
       "      <td>Pave</td>\n",
       "      <td>NaN</td>\n",
       "      <td>IR1</td>\n",
       "      <td>Lvl</td>\n",
       "      <td>AllPub</td>\n",
       "      <td>...</td>\n",
       "      <td>0</td>\n",
       "      <td>0</td>\n",
       "      <td>NaN</td>\n",
       "      <td>NaN</td>\n",
       "      <td>NaN</td>\n",
       "      <td>0</td>\n",
       "      <td>6</td>\n",
       "      <td>2010</td>\n",
       "      <td>WD</td>\n",
       "      <td>Normal</td>\n",
       "    </tr>\n",
       "    <tr>\n",
       "      <th>4</th>\n",
       "      <td>1465</td>\n",
       "      <td>120</td>\n",
       "      <td>RL</td>\n",
       "      <td>43.0</td>\n",
       "      <td>5005</td>\n",
       "      <td>Pave</td>\n",
       "      <td>NaN</td>\n",
       "      <td>IR1</td>\n",
       "      <td>HLS</td>\n",
       "      <td>AllPub</td>\n",
       "      <td>...</td>\n",
       "      <td>144</td>\n",
       "      <td>0</td>\n",
       "      <td>NaN</td>\n",
       "      <td>NaN</td>\n",
       "      <td>NaN</td>\n",
       "      <td>0</td>\n",
       "      <td>1</td>\n",
       "      <td>2010</td>\n",
       "      <td>WD</td>\n",
       "      <td>Normal</td>\n",
       "    </tr>\n",
       "  </tbody>\n",
       "</table>\n",
       "<p>5 rows × 80 columns</p>\n",
       "</div>"
      ],
      "text/plain": [
       "     Id  MSSubClass MSZoning  LotFrontage  LotArea Street Alley LotShape  \\\n",
       "0  1461          20       RH         80.0    11622   Pave   NaN      Reg   \n",
       "1  1462          20       RL         81.0    14267   Pave   NaN      IR1   \n",
       "2  1463          60       RL         74.0    13830   Pave   NaN      IR1   \n",
       "3  1464          60       RL         78.0     9978   Pave   NaN      IR1   \n",
       "4  1465         120       RL         43.0     5005   Pave   NaN      IR1   \n",
       "\n",
       "  LandContour Utilities  ... ScreenPorch PoolArea PoolQC  Fence MiscFeature  \\\n",
       "0         Lvl    AllPub  ...         120        0    NaN  MnPrv         NaN   \n",
       "1         Lvl    AllPub  ...           0        0    NaN    NaN        Gar2   \n",
       "2         Lvl    AllPub  ...           0        0    NaN  MnPrv         NaN   \n",
       "3         Lvl    AllPub  ...           0        0    NaN    NaN         NaN   \n",
       "4         HLS    AllPub  ...         144        0    NaN    NaN         NaN   \n",
       "\n",
       "  MiscVal MoSold  YrSold  SaleType  SaleCondition  \n",
       "0       0      6    2010        WD         Normal  \n",
       "1   12500      6    2010        WD         Normal  \n",
       "2       0      3    2010        WD         Normal  \n",
       "3       0      6    2010        WD         Normal  \n",
       "4       0      1    2010        WD         Normal  \n",
       "\n",
       "[5 rows x 80 columns]"
      ]
     },
     "execution_count": 2,
     "metadata": {},
     "output_type": "execute_result"
    }
   ],
   "source": [
    "train = pd.read_csv('../input/house-prices-advanced-regression-techniques/train.csv')\n",
    "df = train.copy()\n",
    "\n",
    "test = pd.read_csv('../input/house-prices-advanced-regression-techniques/test.csv')\n",
    "df_test = test.copy()\n",
    "\n",
    "df_test.head()"
   ]
  },
  {
   "cell_type": "code",
   "execution_count": 3,
   "metadata": {
    "execution": {
     "iopub.execute_input": "2020-10-24T17:50:46.215408Z",
     "iopub.status.busy": "2020-10-24T17:50:46.214402Z",
     "iopub.status.idle": "2020-10-24T17:50:46.218527Z",
     "shell.execute_reply": "2020-10-24T17:50:46.218010Z"
    },
    "id": "yd2zp9u2LgF9",
    "outputId": "36bf075f-5a55-42de-eb62-86fd8142653a",
    "papermill": {
     "duration": 0.027356,
     "end_time": "2020-10-24T17:50:46.218647",
     "exception": false,
     "start_time": "2020-10-24T17:50:46.191291",
     "status": "completed"
    },
    "tags": []
   },
   "outputs": [
    {
     "data": {
      "text/plain": [
       "array(['RH', 'RL', 'RM', 'FV', 'C (all)', nan], dtype=object)"
      ]
     },
     "execution_count": 3,
     "metadata": {},
     "output_type": "execute_result"
    }
   ],
   "source": [
    "df_test['MSZoning'].unique()"
   ]
  },
  {
   "cell_type": "markdown",
   "metadata": {
    "id": "NTFhBl8b3e8H",
    "papermill": {
     "duration": 0.017387,
     "end_time": "2020-10-24T17:50:46.253568",
     "exception": false,
     "start_time": "2020-10-24T17:50:46.236181",
     "status": "completed"
    },
    "tags": []
   },
   "source": [
    "Calculating missing data"
   ]
  },
  {
   "cell_type": "code",
   "execution_count": 4,
   "metadata": {
    "execution": {
     "iopub.execute_input": "2020-10-24T17:50:46.297165Z",
     "iopub.status.busy": "2020-10-24T17:50:46.296528Z",
     "iopub.status.idle": "2020-10-24T17:50:46.322442Z",
     "shell.execute_reply": "2020-10-24T17:50:46.321703Z"
    },
    "id": "359J_x_P3ed-",
    "outputId": "eebf6769-3815-48d1-8120-08613f74865c",
    "papermill": {
     "duration": 0.051429,
     "end_time": "2020-10-24T17:50:46.322571",
     "exception": false,
     "start_time": "2020-10-24T17:50:46.271142",
     "status": "completed"
    },
    "tags": []
   },
   "outputs": [
    {
     "data": {
      "text/plain": [
       "PoolQC          99.520548\n",
       "MiscFeature     96.301370\n",
       "Alley           93.767123\n",
       "Fence           80.753425\n",
       "FireplaceQu     47.260274\n",
       "LotFrontage     17.739726\n",
       "GarageCond       5.547945\n",
       "GarageType       5.547945\n",
       "GarageYrBlt      5.547945\n",
       "GarageFinish     5.547945\n",
       "GarageQual       5.547945\n",
       "BsmtExposure     2.602740\n",
       "BsmtFinType2     2.602740\n",
       "BsmtFinType1     2.534247\n",
       "BsmtCond         2.534247\n",
       "BsmtQual         2.534247\n",
       "MasVnrArea       0.547945\n",
       "MasVnrType       0.547945\n",
       "Electrical       0.068493\n",
       "Utilities        0.000000\n",
       "dtype: float64"
      ]
     },
     "execution_count": 4,
     "metadata": {},
     "output_type": "execute_result"
    }
   ],
   "source": [
    "total = df.isnull().sum().sort_values(ascending = False).head(20)*100/len(df)\n",
    "total"
   ]
  },
  {
   "cell_type": "code",
   "execution_count": 5,
   "metadata": {
    "execution": {
     "iopub.execute_input": "2020-10-24T17:50:46.368678Z",
     "iopub.status.busy": "2020-10-24T17:50:46.367628Z",
     "iopub.status.idle": "2020-10-24T17:50:46.375409Z",
     "shell.execute_reply": "2020-10-24T17:50:46.374915Z"
    },
    "id": "Wb5k75joMER-",
    "outputId": "b78becf2-088b-4f2e-f4fc-e8afc58ffe45",
    "papermill": {
     "duration": 0.034882,
     "end_time": "2020-10-24T17:50:46.375532",
     "exception": false,
     "start_time": "2020-10-24T17:50:46.340650",
     "status": "completed"
    },
    "tags": []
   },
   "outputs": [
    {
     "data": {
      "text/plain": [
       "PoolQC          99.726027\n",
       "MiscFeature     96.438356\n",
       "Alley           92.602740\n",
       "Fence           80.068493\n",
       "FireplaceQu     50.000000\n",
       "LotFrontage     15.547945\n",
       "GarageCond       5.342466\n",
       "GarageQual       5.342466\n",
       "GarageYrBlt      5.342466\n",
       "GarageFinish     5.342466\n",
       "GarageType       5.205479\n",
       "BsmtCond         3.082192\n",
       "BsmtQual         3.013699\n",
       "BsmtExposure     3.013699\n",
       "BsmtFinType1     2.876712\n",
       "BsmtFinType2     2.876712\n",
       "MasVnrType       1.095890\n",
       "MasVnrArea       1.027397\n",
       "MSZoning         0.273973\n",
       "BsmtHalfBath     0.136986\n",
       "dtype: float64"
      ]
     },
     "execution_count": 5,
     "metadata": {},
     "output_type": "execute_result"
    }
   ],
   "source": [
    "total = df_test.isnull().sum().sort_values(ascending = False).head(20)*100/len(df)\n",
    "total"
   ]
  },
  {
   "cell_type": "markdown",
   "metadata": {
    "id": "RIOblTJ35ZvW",
    "papermill": {
     "duration": 0.018063,
     "end_time": "2020-10-24T17:50:46.411940",
     "exception": false,
     "start_time": "2020-10-24T17:50:46.393877",
     "status": "completed"
    },
    "tags": []
   },
   "source": [
    "Dropping columns with >10% null values"
   ]
  },
  {
   "cell_type": "code",
   "execution_count": 6,
   "metadata": {
    "execution": {
     "iopub.execute_input": "2020-10-24T17:50:46.460307Z",
     "iopub.status.busy": "2020-10-24T17:50:46.459485Z",
     "iopub.status.idle": "2020-10-24T17:50:46.462832Z",
     "shell.execute_reply": "2020-10-24T17:50:46.462187Z"
    },
    "id": "mbEovfxZ5ZXb",
    "papermill": {
     "duration": 0.032195,
     "end_time": "2020-10-24T17:50:46.462950",
     "exception": false,
     "start_time": "2020-10-24T17:50:46.430755",
     "status": "completed"
    },
    "tags": []
   },
   "outputs": [],
   "source": [
    "df = df.drop(['PoolQC','MiscFeature','Alley','Fence','FireplaceQu','LotFrontage','MSZoning'], axis='columns')\n",
    "df_test = df_test.drop(['PoolQC','MiscFeature','Alley','Fence','FireplaceQu','LotFrontage', 'MSZoning'], axis='columns')"
   ]
  },
  {
   "cell_type": "code",
   "execution_count": 7,
   "metadata": {
    "execution": {
     "iopub.execute_input": "2020-10-24T17:50:46.508734Z",
     "iopub.status.busy": "2020-10-24T17:50:46.508024Z",
     "iopub.status.idle": "2020-10-24T17:50:46.601389Z",
     "shell.execute_reply": "2020-10-24T17:50:46.600788Z"
    },
    "id": "hLdD4-UG7RWI",
    "outputId": "9be5f681-638c-4f95-c059-eb8911da8afb",
    "papermill": {
     "duration": 0.119834,
     "end_time": "2020-10-24T17:50:46.601525",
     "exception": false,
     "start_time": "2020-10-24T17:50:46.481691",
     "status": "completed"
    },
    "tags": []
   },
   "outputs": [
    {
     "data": {
      "text/html": [
       "<div>\n",
       "<style scoped>\n",
       "    .dataframe tbody tr th:only-of-type {\n",
       "        vertical-align: middle;\n",
       "    }\n",
       "\n",
       "    .dataframe tbody tr th {\n",
       "        vertical-align: top;\n",
       "    }\n",
       "\n",
       "    .dataframe thead th {\n",
       "        text-align: right;\n",
       "    }\n",
       "</style>\n",
       "<table border=\"1\" class=\"dataframe\">\n",
       "  <thead>\n",
       "    <tr style=\"text-align: right;\">\n",
       "      <th></th>\n",
       "      <th>Id</th>\n",
       "      <th>MSSubClass</th>\n",
       "      <th>LotArea</th>\n",
       "      <th>OverallQual</th>\n",
       "      <th>OverallCond</th>\n",
       "      <th>YearBuilt</th>\n",
       "      <th>YearRemodAdd</th>\n",
       "      <th>MasVnrArea</th>\n",
       "      <th>BsmtFinSF1</th>\n",
       "      <th>BsmtFinSF2</th>\n",
       "      <th>...</th>\n",
       "      <th>WoodDeckSF</th>\n",
       "      <th>OpenPorchSF</th>\n",
       "      <th>EnclosedPorch</th>\n",
       "      <th>3SsnPorch</th>\n",
       "      <th>ScreenPorch</th>\n",
       "      <th>PoolArea</th>\n",
       "      <th>MiscVal</th>\n",
       "      <th>MoSold</th>\n",
       "      <th>YrSold</th>\n",
       "      <th>SalePrice</th>\n",
       "    </tr>\n",
       "  </thead>\n",
       "  <tbody>\n",
       "    <tr>\n",
       "      <th>count</th>\n",
       "      <td>1460.000000</td>\n",
       "      <td>1460.000000</td>\n",
       "      <td>1460.000000</td>\n",
       "      <td>1460.000000</td>\n",
       "      <td>1460.000000</td>\n",
       "      <td>1460.000000</td>\n",
       "      <td>1460.000000</td>\n",
       "      <td>1452.000000</td>\n",
       "      <td>1460.000000</td>\n",
       "      <td>1460.000000</td>\n",
       "      <td>...</td>\n",
       "      <td>1460.000000</td>\n",
       "      <td>1460.000000</td>\n",
       "      <td>1460.000000</td>\n",
       "      <td>1460.000000</td>\n",
       "      <td>1460.000000</td>\n",
       "      <td>1460.000000</td>\n",
       "      <td>1460.000000</td>\n",
       "      <td>1460.000000</td>\n",
       "      <td>1460.000000</td>\n",
       "      <td>1460.000000</td>\n",
       "    </tr>\n",
       "    <tr>\n",
       "      <th>mean</th>\n",
       "      <td>730.500000</td>\n",
       "      <td>56.897260</td>\n",
       "      <td>10516.828082</td>\n",
       "      <td>6.099315</td>\n",
       "      <td>5.575342</td>\n",
       "      <td>1971.267808</td>\n",
       "      <td>1984.865753</td>\n",
       "      <td>103.685262</td>\n",
       "      <td>443.639726</td>\n",
       "      <td>46.549315</td>\n",
       "      <td>...</td>\n",
       "      <td>94.244521</td>\n",
       "      <td>46.660274</td>\n",
       "      <td>21.954110</td>\n",
       "      <td>3.409589</td>\n",
       "      <td>15.060959</td>\n",
       "      <td>2.758904</td>\n",
       "      <td>43.489041</td>\n",
       "      <td>6.321918</td>\n",
       "      <td>2007.815753</td>\n",
       "      <td>180921.195890</td>\n",
       "    </tr>\n",
       "    <tr>\n",
       "      <th>std</th>\n",
       "      <td>421.610009</td>\n",
       "      <td>42.300571</td>\n",
       "      <td>9981.264932</td>\n",
       "      <td>1.382997</td>\n",
       "      <td>1.112799</td>\n",
       "      <td>30.202904</td>\n",
       "      <td>20.645407</td>\n",
       "      <td>181.066207</td>\n",
       "      <td>456.098091</td>\n",
       "      <td>161.319273</td>\n",
       "      <td>...</td>\n",
       "      <td>125.338794</td>\n",
       "      <td>66.256028</td>\n",
       "      <td>61.119149</td>\n",
       "      <td>29.317331</td>\n",
       "      <td>55.757415</td>\n",
       "      <td>40.177307</td>\n",
       "      <td>496.123024</td>\n",
       "      <td>2.703626</td>\n",
       "      <td>1.328095</td>\n",
       "      <td>79442.502883</td>\n",
       "    </tr>\n",
       "    <tr>\n",
       "      <th>min</th>\n",
       "      <td>1.000000</td>\n",
       "      <td>20.000000</td>\n",
       "      <td>1300.000000</td>\n",
       "      <td>1.000000</td>\n",
       "      <td>1.000000</td>\n",
       "      <td>1872.000000</td>\n",
       "      <td>1950.000000</td>\n",
       "      <td>0.000000</td>\n",
       "      <td>0.000000</td>\n",
       "      <td>0.000000</td>\n",
       "      <td>...</td>\n",
       "      <td>0.000000</td>\n",
       "      <td>0.000000</td>\n",
       "      <td>0.000000</td>\n",
       "      <td>0.000000</td>\n",
       "      <td>0.000000</td>\n",
       "      <td>0.000000</td>\n",
       "      <td>0.000000</td>\n",
       "      <td>1.000000</td>\n",
       "      <td>2006.000000</td>\n",
       "      <td>34900.000000</td>\n",
       "    </tr>\n",
       "    <tr>\n",
       "      <th>25%</th>\n",
       "      <td>365.750000</td>\n",
       "      <td>20.000000</td>\n",
       "      <td>7553.500000</td>\n",
       "      <td>5.000000</td>\n",
       "      <td>5.000000</td>\n",
       "      <td>1954.000000</td>\n",
       "      <td>1967.000000</td>\n",
       "      <td>0.000000</td>\n",
       "      <td>0.000000</td>\n",
       "      <td>0.000000</td>\n",
       "      <td>...</td>\n",
       "      <td>0.000000</td>\n",
       "      <td>0.000000</td>\n",
       "      <td>0.000000</td>\n",
       "      <td>0.000000</td>\n",
       "      <td>0.000000</td>\n",
       "      <td>0.000000</td>\n",
       "      <td>0.000000</td>\n",
       "      <td>5.000000</td>\n",
       "      <td>2007.000000</td>\n",
       "      <td>129975.000000</td>\n",
       "    </tr>\n",
       "    <tr>\n",
       "      <th>50%</th>\n",
       "      <td>730.500000</td>\n",
       "      <td>50.000000</td>\n",
       "      <td>9478.500000</td>\n",
       "      <td>6.000000</td>\n",
       "      <td>5.000000</td>\n",
       "      <td>1973.000000</td>\n",
       "      <td>1994.000000</td>\n",
       "      <td>0.000000</td>\n",
       "      <td>383.500000</td>\n",
       "      <td>0.000000</td>\n",
       "      <td>...</td>\n",
       "      <td>0.000000</td>\n",
       "      <td>25.000000</td>\n",
       "      <td>0.000000</td>\n",
       "      <td>0.000000</td>\n",
       "      <td>0.000000</td>\n",
       "      <td>0.000000</td>\n",
       "      <td>0.000000</td>\n",
       "      <td>6.000000</td>\n",
       "      <td>2008.000000</td>\n",
       "      <td>163000.000000</td>\n",
       "    </tr>\n",
       "    <tr>\n",
       "      <th>75%</th>\n",
       "      <td>1095.250000</td>\n",
       "      <td>70.000000</td>\n",
       "      <td>11601.500000</td>\n",
       "      <td>7.000000</td>\n",
       "      <td>6.000000</td>\n",
       "      <td>2000.000000</td>\n",
       "      <td>2004.000000</td>\n",
       "      <td>166.000000</td>\n",
       "      <td>712.250000</td>\n",
       "      <td>0.000000</td>\n",
       "      <td>...</td>\n",
       "      <td>168.000000</td>\n",
       "      <td>68.000000</td>\n",
       "      <td>0.000000</td>\n",
       "      <td>0.000000</td>\n",
       "      <td>0.000000</td>\n",
       "      <td>0.000000</td>\n",
       "      <td>0.000000</td>\n",
       "      <td>8.000000</td>\n",
       "      <td>2009.000000</td>\n",
       "      <td>214000.000000</td>\n",
       "    </tr>\n",
       "    <tr>\n",
       "      <th>max</th>\n",
       "      <td>1460.000000</td>\n",
       "      <td>190.000000</td>\n",
       "      <td>215245.000000</td>\n",
       "      <td>10.000000</td>\n",
       "      <td>9.000000</td>\n",
       "      <td>2010.000000</td>\n",
       "      <td>2010.000000</td>\n",
       "      <td>1600.000000</td>\n",
       "      <td>5644.000000</td>\n",
       "      <td>1474.000000</td>\n",
       "      <td>...</td>\n",
       "      <td>857.000000</td>\n",
       "      <td>547.000000</td>\n",
       "      <td>552.000000</td>\n",
       "      <td>508.000000</td>\n",
       "      <td>480.000000</td>\n",
       "      <td>738.000000</td>\n",
       "      <td>15500.000000</td>\n",
       "      <td>12.000000</td>\n",
       "      <td>2010.000000</td>\n",
       "      <td>755000.000000</td>\n",
       "    </tr>\n",
       "  </tbody>\n",
       "</table>\n",
       "<p>8 rows × 37 columns</p>\n",
       "</div>"
      ],
      "text/plain": [
       "                Id   MSSubClass        LotArea  OverallQual  OverallCond  \\\n",
       "count  1460.000000  1460.000000    1460.000000  1460.000000  1460.000000   \n",
       "mean    730.500000    56.897260   10516.828082     6.099315     5.575342   \n",
       "std     421.610009    42.300571    9981.264932     1.382997     1.112799   \n",
       "min       1.000000    20.000000    1300.000000     1.000000     1.000000   \n",
       "25%     365.750000    20.000000    7553.500000     5.000000     5.000000   \n",
       "50%     730.500000    50.000000    9478.500000     6.000000     5.000000   \n",
       "75%    1095.250000    70.000000   11601.500000     7.000000     6.000000   \n",
       "max    1460.000000   190.000000  215245.000000    10.000000     9.000000   \n",
       "\n",
       "         YearBuilt  YearRemodAdd   MasVnrArea   BsmtFinSF1   BsmtFinSF2  ...  \\\n",
       "count  1460.000000   1460.000000  1452.000000  1460.000000  1460.000000  ...   \n",
       "mean   1971.267808   1984.865753   103.685262   443.639726    46.549315  ...   \n",
       "std      30.202904     20.645407   181.066207   456.098091   161.319273  ...   \n",
       "min    1872.000000   1950.000000     0.000000     0.000000     0.000000  ...   \n",
       "25%    1954.000000   1967.000000     0.000000     0.000000     0.000000  ...   \n",
       "50%    1973.000000   1994.000000     0.000000   383.500000     0.000000  ...   \n",
       "75%    2000.000000   2004.000000   166.000000   712.250000     0.000000  ...   \n",
       "max    2010.000000   2010.000000  1600.000000  5644.000000  1474.000000  ...   \n",
       "\n",
       "        WoodDeckSF  OpenPorchSF  EnclosedPorch    3SsnPorch  ScreenPorch  \\\n",
       "count  1460.000000  1460.000000    1460.000000  1460.000000  1460.000000   \n",
       "mean     94.244521    46.660274      21.954110     3.409589    15.060959   \n",
       "std     125.338794    66.256028      61.119149    29.317331    55.757415   \n",
       "min       0.000000     0.000000       0.000000     0.000000     0.000000   \n",
       "25%       0.000000     0.000000       0.000000     0.000000     0.000000   \n",
       "50%       0.000000    25.000000       0.000000     0.000000     0.000000   \n",
       "75%     168.000000    68.000000       0.000000     0.000000     0.000000   \n",
       "max     857.000000   547.000000     552.000000   508.000000   480.000000   \n",
       "\n",
       "          PoolArea       MiscVal       MoSold       YrSold      SalePrice  \n",
       "count  1460.000000   1460.000000  1460.000000  1460.000000    1460.000000  \n",
       "mean      2.758904     43.489041     6.321918  2007.815753  180921.195890  \n",
       "std      40.177307    496.123024     2.703626     1.328095   79442.502883  \n",
       "min       0.000000      0.000000     1.000000  2006.000000   34900.000000  \n",
       "25%       0.000000      0.000000     5.000000  2007.000000  129975.000000  \n",
       "50%       0.000000      0.000000     6.000000  2008.000000  163000.000000  \n",
       "75%       0.000000      0.000000     8.000000  2009.000000  214000.000000  \n",
       "max     738.000000  15500.000000    12.000000  2010.000000  755000.000000  \n",
       "\n",
       "[8 rows x 37 columns]"
      ]
     },
     "execution_count": 7,
     "metadata": {},
     "output_type": "execute_result"
    }
   ],
   "source": [
    "df.describe()"
   ]
  },
  {
   "cell_type": "code",
   "execution_count": 8,
   "metadata": {
    "execution": {
     "iopub.execute_input": "2020-10-24T17:50:46.650192Z",
     "iopub.status.busy": "2020-10-24T17:50:46.647958Z",
     "iopub.status.idle": "2020-10-24T17:50:46.654273Z",
     "shell.execute_reply": "2020-10-24T17:50:46.653648Z"
    },
    "id": "v34sASLpD2Yt",
    "papermill": {
     "duration": 0.032521,
     "end_time": "2020-10-24T17:50:46.654412",
     "exception": false,
     "start_time": "2020-10-24T17:50:46.621891",
     "status": "completed"
    },
    "tags": []
   },
   "outputs": [],
   "source": [
    "# Removing columns with >50% zeroes & having large max_values\n",
    "# not removing '2ndFlrSF' because of house type\n",
    "df = df.drop(['MasVnrArea', 'BsmtFinSF2', '2ndFlrSF', 'LowQualFinSF', 'EnclosedPorch', '3SsnPorch', 'ScreenPorch',\n",
    "              'PoolArea', 'MiscVal'], axis='columns')\n",
    "df_test = df_test.drop(['MasVnrArea', 'BsmtFinSF2', '2ndFlrSF', 'LowQualFinSF', 'EnclosedPorch', '3SsnPorch',\n",
    "                        'ScreenPorch', 'PoolArea', 'MiscVal'], axis='columns')"
   ]
  },
  {
   "cell_type": "code",
   "execution_count": 9,
   "metadata": {
    "execution": {
     "iopub.execute_input": "2020-10-24T17:50:46.702435Z",
     "iopub.status.busy": "2020-10-24T17:50:46.701517Z",
     "iopub.status.idle": "2020-10-24T17:50:46.705188Z",
     "shell.execute_reply": "2020-10-24T17:50:46.705712Z"
    },
    "id": "q67je4A_nQvs",
    "outputId": "4e8e115e-2d53-4128-a95b-72ca8f37988e",
    "papermill": {
     "duration": 0.030713,
     "end_time": "2020-10-24T17:50:46.705854",
     "exception": false,
     "start_time": "2020-10-24T17:50:46.675141",
     "status": "completed"
    },
    "tags": []
   },
   "outputs": [
    {
     "data": {
      "text/plain": [
       "object     37\n",
       "int64      27\n",
       "float64     1\n",
       "dtype: int64"
      ]
     },
     "execution_count": 9,
     "metadata": {},
     "output_type": "execute_result"
    }
   ],
   "source": [
    "df.dtypes.value_counts()"
   ]
  },
  {
   "cell_type": "code",
   "execution_count": 10,
   "metadata": {
    "execution": {
     "iopub.execute_input": "2020-10-24T17:50:46.771907Z",
     "iopub.status.busy": "2020-10-24T17:50:46.770951Z",
     "iopub.status.idle": "2020-10-24T17:50:46.775829Z",
     "shell.execute_reply": "2020-10-24T17:50:46.775337Z"
    },
    "id": "LQoR7LqZ4C1U",
    "outputId": "5b70cfc1-769f-4ed2-8142-e0d6cc65fa73",
    "papermill": {
     "duration": 0.048952,
     "end_time": "2020-10-24T17:50:46.775944",
     "exception": false,
     "start_time": "2020-10-24T17:50:46.726992",
     "status": "completed"
    },
    "tags": []
   },
   "outputs": [
    {
     "data": {
      "text/html": [
       "<div>\n",
       "<style scoped>\n",
       "    .dataframe tbody tr th:only-of-type {\n",
       "        vertical-align: middle;\n",
       "    }\n",
       "\n",
       "    .dataframe tbody tr th {\n",
       "        vertical-align: top;\n",
       "    }\n",
       "\n",
       "    .dataframe thead th {\n",
       "        text-align: right;\n",
       "    }\n",
       "</style>\n",
       "<table border=\"1\" class=\"dataframe\">\n",
       "  <thead>\n",
       "    <tr style=\"text-align: right;\">\n",
       "      <th></th>\n",
       "      <th>Id</th>\n",
       "      <th>MSSubClass</th>\n",
       "      <th>LotArea</th>\n",
       "      <th>Street</th>\n",
       "      <th>LotShape</th>\n",
       "      <th>LandContour</th>\n",
       "      <th>Utilities</th>\n",
       "      <th>LotConfig</th>\n",
       "      <th>LandSlope</th>\n",
       "      <th>Neighborhood</th>\n",
       "      <th>...</th>\n",
       "      <th>GarageQual</th>\n",
       "      <th>GarageCond</th>\n",
       "      <th>PavedDrive</th>\n",
       "      <th>WoodDeckSF</th>\n",
       "      <th>OpenPorchSF</th>\n",
       "      <th>MoSold</th>\n",
       "      <th>YrSold</th>\n",
       "      <th>SaleType</th>\n",
       "      <th>SaleCondition</th>\n",
       "      <th>SalePrice</th>\n",
       "    </tr>\n",
       "  </thead>\n",
       "  <tbody>\n",
       "    <tr>\n",
       "      <th>0</th>\n",
       "      <td>1</td>\n",
       "      <td>60</td>\n",
       "      <td>8450</td>\n",
       "      <td>Pave</td>\n",
       "      <td>Reg</td>\n",
       "      <td>Lvl</td>\n",
       "      <td>AllPub</td>\n",
       "      <td>Inside</td>\n",
       "      <td>Gtl</td>\n",
       "      <td>CollgCr</td>\n",
       "      <td>...</td>\n",
       "      <td>TA</td>\n",
       "      <td>TA</td>\n",
       "      <td>Y</td>\n",
       "      <td>0</td>\n",
       "      <td>61</td>\n",
       "      <td>2</td>\n",
       "      <td>2008</td>\n",
       "      <td>WD</td>\n",
       "      <td>Normal</td>\n",
       "      <td>208500</td>\n",
       "    </tr>\n",
       "    <tr>\n",
       "      <th>1</th>\n",
       "      <td>2</td>\n",
       "      <td>20</td>\n",
       "      <td>9600</td>\n",
       "      <td>Pave</td>\n",
       "      <td>Reg</td>\n",
       "      <td>Lvl</td>\n",
       "      <td>AllPub</td>\n",
       "      <td>FR2</td>\n",
       "      <td>Gtl</td>\n",
       "      <td>Veenker</td>\n",
       "      <td>...</td>\n",
       "      <td>TA</td>\n",
       "      <td>TA</td>\n",
       "      <td>Y</td>\n",
       "      <td>298</td>\n",
       "      <td>0</td>\n",
       "      <td>5</td>\n",
       "      <td>2007</td>\n",
       "      <td>WD</td>\n",
       "      <td>Normal</td>\n",
       "      <td>181500</td>\n",
       "    </tr>\n",
       "    <tr>\n",
       "      <th>2</th>\n",
       "      <td>3</td>\n",
       "      <td>60</td>\n",
       "      <td>11250</td>\n",
       "      <td>Pave</td>\n",
       "      <td>IR1</td>\n",
       "      <td>Lvl</td>\n",
       "      <td>AllPub</td>\n",
       "      <td>Inside</td>\n",
       "      <td>Gtl</td>\n",
       "      <td>CollgCr</td>\n",
       "      <td>...</td>\n",
       "      <td>TA</td>\n",
       "      <td>TA</td>\n",
       "      <td>Y</td>\n",
       "      <td>0</td>\n",
       "      <td>42</td>\n",
       "      <td>9</td>\n",
       "      <td>2008</td>\n",
       "      <td>WD</td>\n",
       "      <td>Normal</td>\n",
       "      <td>223500</td>\n",
       "    </tr>\n",
       "    <tr>\n",
       "      <th>3</th>\n",
       "      <td>4</td>\n",
       "      <td>70</td>\n",
       "      <td>9550</td>\n",
       "      <td>Pave</td>\n",
       "      <td>IR1</td>\n",
       "      <td>Lvl</td>\n",
       "      <td>AllPub</td>\n",
       "      <td>Corner</td>\n",
       "      <td>Gtl</td>\n",
       "      <td>Crawfor</td>\n",
       "      <td>...</td>\n",
       "      <td>TA</td>\n",
       "      <td>TA</td>\n",
       "      <td>Y</td>\n",
       "      <td>0</td>\n",
       "      <td>35</td>\n",
       "      <td>2</td>\n",
       "      <td>2006</td>\n",
       "      <td>WD</td>\n",
       "      <td>Abnorml</td>\n",
       "      <td>140000</td>\n",
       "    </tr>\n",
       "    <tr>\n",
       "      <th>4</th>\n",
       "      <td>5</td>\n",
       "      <td>60</td>\n",
       "      <td>14260</td>\n",
       "      <td>Pave</td>\n",
       "      <td>IR1</td>\n",
       "      <td>Lvl</td>\n",
       "      <td>AllPub</td>\n",
       "      <td>FR2</td>\n",
       "      <td>Gtl</td>\n",
       "      <td>NoRidge</td>\n",
       "      <td>...</td>\n",
       "      <td>TA</td>\n",
       "      <td>TA</td>\n",
       "      <td>Y</td>\n",
       "      <td>192</td>\n",
       "      <td>84</td>\n",
       "      <td>12</td>\n",
       "      <td>2008</td>\n",
       "      <td>WD</td>\n",
       "      <td>Normal</td>\n",
       "      <td>250000</td>\n",
       "    </tr>\n",
       "  </tbody>\n",
       "</table>\n",
       "<p>5 rows × 65 columns</p>\n",
       "</div>"
      ],
      "text/plain": [
       "   Id  MSSubClass  LotArea Street LotShape LandContour Utilities LotConfig  \\\n",
       "0   1          60     8450   Pave      Reg         Lvl    AllPub    Inside   \n",
       "1   2          20     9600   Pave      Reg         Lvl    AllPub       FR2   \n",
       "2   3          60    11250   Pave      IR1         Lvl    AllPub    Inside   \n",
       "3   4          70     9550   Pave      IR1         Lvl    AllPub    Corner   \n",
       "4   5          60    14260   Pave      IR1         Lvl    AllPub       FR2   \n",
       "\n",
       "  LandSlope Neighborhood  ... GarageQual GarageCond PavedDrive WoodDeckSF  \\\n",
       "0       Gtl      CollgCr  ...         TA         TA          Y          0   \n",
       "1       Gtl      Veenker  ...         TA         TA          Y        298   \n",
       "2       Gtl      CollgCr  ...         TA         TA          Y          0   \n",
       "3       Gtl      Crawfor  ...         TA         TA          Y          0   \n",
       "4       Gtl      NoRidge  ...         TA         TA          Y        192   \n",
       "\n",
       "   OpenPorchSF  MoSold  YrSold  SaleType SaleCondition SalePrice  \n",
       "0           61       2    2008        WD        Normal    208500  \n",
       "1            0       5    2007        WD        Normal    181500  \n",
       "2           42       9    2008        WD        Normal    223500  \n",
       "3           35       2    2006        WD       Abnorml    140000  \n",
       "4           84      12    2008        WD        Normal    250000  \n",
       "\n",
       "[5 rows x 65 columns]"
      ]
     },
     "execution_count": 10,
     "metadata": {},
     "output_type": "execute_result"
    }
   ],
   "source": [
    "df.head()"
   ]
  },
  {
   "cell_type": "markdown",
   "metadata": {
    "papermill": {
     "duration": 0.020059,
     "end_time": "2020-10-24T17:50:46.816529",
     "exception": false,
     "start_time": "2020-10-24T17:50:46.796470",
     "status": "completed"
    },
    "tags": []
   },
   "source": [
    "Declaring training and test sets"
   ]
  },
  {
   "cell_type": "code",
   "execution_count": 11,
   "metadata": {
    "execution": {
     "iopub.execute_input": "2020-10-24T17:50:46.865974Z",
     "iopub.status.busy": "2020-10-24T17:50:46.865257Z",
     "iopub.status.idle": "2020-10-24T17:50:46.868407Z",
     "shell.execute_reply": "2020-10-24T17:50:46.867760Z"
    },
    "id": "W9bAjJ3GIO3o",
    "papermill": {
     "duration": 0.031658,
     "end_time": "2020-10-24T17:50:46.868524",
     "exception": false,
     "start_time": "2020-10-24T17:50:46.836866",
     "status": "completed"
    },
    "tags": []
   },
   "outputs": [],
   "source": [
    "# Creating independent and dependent variables\n",
    "x_train = df.drop(['SalePrice'], axis=1)\n",
    "y_train = df.SalePrice\n",
    "\n",
    "x_test = df_test"
   ]
  },
  {
   "cell_type": "markdown",
   "metadata": {
    "id": "RrD2XFycUXlS",
    "papermill": {
     "duration": 0.0201,
     "end_time": "2020-10-24T17:50:46.909259",
     "exception": false,
     "start_time": "2020-10-24T17:50:46.889159",
     "status": "completed"
    },
    "tags": []
   },
   "source": [
    "Pipelining"
   ]
  },
  {
   "cell_type": "code",
   "execution_count": 12,
   "metadata": {
    "execution": {
     "iopub.execute_input": "2020-10-24T17:50:46.959198Z",
     "iopub.status.busy": "2020-10-24T17:50:46.958441Z",
     "iopub.status.idle": "2020-10-24T17:50:47.968277Z",
     "shell.execute_reply": "2020-10-24T17:50:47.967621Z"
    },
    "id": "9U_MyEGpzaEh",
    "papermill": {
     "duration": 1.038701,
     "end_time": "2020-10-24T17:50:47.968428",
     "exception": false,
     "start_time": "2020-10-24T17:50:46.929727",
     "status": "completed"
    },
    "tags": []
   },
   "outputs": [],
   "source": [
    "from sklearn.pipeline import Pipeline\n",
    "from sklearn.preprocessing import LabelEncoder, StandardScaler, OneHotEncoder\n",
    "from sklearn.impute import SimpleImputer\n",
    "from sklearn.compose import ColumnTransformer\n",
    "\n",
    "num_features = df.select_dtypes(include = ['int64', 'float64']).columns.tolist()\n",
    "cat_features = df.select_dtypes(include = ['object']).columns.tolist()\n",
    "\n",
    "num_features.remove('SalePrice')\n",
    "\n",
    "# processing for numerical data\n",
    "numerical_transformer = Pipeline(steps = [\n",
    "                                          ('imputer', SimpleImputer(strategy='mean')),\n",
    "                                          ('scalar', StandardScaler())\n",
    "])\n",
    "\n",
    "# processing for categorical data\n",
    "cat_transformer = Pipeline(steps = [\n",
    "                                    ('imputer', SimpleImputer(strategy='most_frequent',fill_value='missing')),\n",
    "                                    ('onehot', OneHotEncoder(handle_unknown='ignore'))\n",
    "])\n",
    "\n",
    "# processing for numerical and categorical data\n",
    "preprocessor = ColumnTransformer(\n",
    "    transformers = [\n",
    "                    ('nums', numerical_transformer, num_features),\n",
    "                    ('cat', cat_transformer, cat_features)\n",
    "    ]\n",
    ")\n"
   ]
  },
  {
   "cell_type": "markdown",
   "metadata": {
    "id": "NTmM8bkgj8Dm",
    "papermill": {
     "duration": 0.020329,
     "end_time": "2020-10-24T17:50:48.009410",
     "exception": false,
     "start_time": "2020-10-24T17:50:47.989081",
     "status": "completed"
    },
    "tags": []
   },
   "source": [
    "Regression model (pipelining it)"
   ]
  },
  {
   "cell_type": "code",
   "execution_count": 13,
   "metadata": {
    "execution": {
     "iopub.execute_input": "2020-10-24T17:50:48.060161Z",
     "iopub.status.busy": "2020-10-24T17:50:48.059503Z",
     "iopub.status.idle": "2020-10-24T17:50:48.120310Z",
     "shell.execute_reply": "2020-10-24T17:50:48.119635Z"
    },
    "id": "4BvOvZH1j4Z6",
    "papermill": {
     "duration": 0.090486,
     "end_time": "2020-10-24T17:50:48.120450",
     "exception": false,
     "start_time": "2020-10-24T17:50:48.029964",
     "status": "completed"
    },
    "tags": []
   },
   "outputs": [],
   "source": [
    "from sklearn.discriminant_analysis import LinearDiscriminantAnalysis as LDA\n",
    "from sklearn.linear_model import LinearRegression, Lasso, Ridge\n",
    "from sklearn.ensemble import RandomForestRegressor\n",
    "from sklearn.tree import DecisionTreeRegressor\n",
    "\n",
    "lda = LDA(n_components = 2)\n",
    "\n",
    "pipe_Linear = Pipeline(steps = [\n",
    "                                ('preprocessor', preprocessor),\n",
    "                                ('linear', LinearRegression() )\n",
    "])\n",
    "pipe_Forest = Pipeline(steps = [\n",
    "                                ('preprocessor', preprocessor),\n",
    "                                ('forest', RandomForestRegressor(n_estimators = 100, random_state = 42) )\n",
    "])\n",
    "\n",
    "pipe_Tree = Pipeline(steps = [\n",
    "                                ('preprocessor', preprocessor),\n",
    "                                ('tree', DecisionTreeRegressor(random_state = 0) )\n",
    "])\n",
    "\n",
    "pipe_Lasso = Pipeline(steps = [\n",
    "                               ('preprocessor', preprocessor),\n",
    "                               ('Lasso', Lasso(random_state = 42))\n",
    "])\n",
    "\n",
    "pipe_Ridge = Pipeline(steps = [\n",
    "                               ('preprocessor', preprocessor),\n",
    "                               ('Ridge', Ridge(random_state = 42))\n",
    "])\n"
   ]
  },
  {
   "cell_type": "markdown",
   "metadata": {
    "papermill": {
     "duration": 0.020607,
     "end_time": "2020-10-24T17:50:48.162133",
     "exception": false,
     "start_time": "2020-10-24T17:50:48.141526",
     "status": "completed"
    },
    "tags": []
   },
   "source": [
    "Inserting all regression models in a list"
   ]
  },
  {
   "cell_type": "code",
   "execution_count": 14,
   "metadata": {
    "execution": {
     "iopub.execute_input": "2020-10-24T17:50:48.209802Z",
     "iopub.status.busy": "2020-10-24T17:50:48.208790Z",
     "iopub.status.idle": "2020-10-24T17:50:48.212285Z",
     "shell.execute_reply": "2020-10-24T17:50:48.211798Z"
    },
    "id": "nkSr4Znm0yTm",
    "papermill": {
     "duration": 0.029559,
     "end_time": "2020-10-24T17:50:48.212423",
     "exception": false,
     "start_time": "2020-10-24T17:50:48.182864",
     "status": "completed"
    },
    "tags": []
   },
   "outputs": [],
   "source": [
    "list_models = [pipe_Linear, pipe_Forest, pipe_Tree, pipe_Lasso, pipe_Ridge]"
   ]
  },
  {
   "cell_type": "markdown",
   "metadata": {
    "papermill": {
     "duration": 0.020412,
     "end_time": "2020-10-24T17:50:48.253814",
     "exception": false,
     "start_time": "2020-10-24T17:50:48.233402",
     "status": "completed"
    },
    "tags": []
   },
   "source": [
    "Calculating cross_val_score for all 5 regression models"
   ]
  },
  {
   "cell_type": "code",
   "execution_count": 15,
   "metadata": {
    "execution": {
     "iopub.execute_input": "2020-10-24T17:50:48.303856Z",
     "iopub.status.busy": "2020-10-24T17:50:48.301129Z",
     "iopub.status.idle": "2020-10-24T17:51:42.907252Z",
     "shell.execute_reply": "2020-10-24T17:51:42.906669Z"
    },
    "id": "XKifb5ST2VcY",
    "papermill": {
     "duration": 54.632912,
     "end_time": "2020-10-24T17:51:42.907398",
     "exception": false,
     "start_time": "2020-10-24T17:50:48.274486",
     "status": "completed"
    },
    "tags": []
   },
   "outputs": [
    {
     "name": "stderr",
     "output_type": "stream",
     "text": [
      "/opt/conda/lib/python3.7/site-packages/sklearn/linear_model/_coordinate_descent.py:515: ConvergenceWarning: Objective did not converge. You might want to increase the number of iterations. Duality gap: 13212353489.718567, tolerance: 699031751.5199751\n",
      "  max_iter, tol, rng, random, positive)\n",
      "/opt/conda/lib/python3.7/site-packages/sklearn/linear_model/_coordinate_descent.py:515: ConvergenceWarning: Objective did not converge. You might want to increase the number of iterations. Duality gap: 1866274284.2872925, tolerance: 770619031.1834062\n",
      "  max_iter, tol, rng, random, positive)\n",
      "/opt/conda/lib/python3.7/site-packages/sklearn/linear_model/_coordinate_descent.py:515: ConvergenceWarning: Objective did not converge. You might want to increase the number of iterations. Duality gap: 5146236400.698181, tolerance: 724930391.3116124\n",
      "  max_iter, tol, rng, random, positive)\n"
     ]
    }
   ],
   "source": [
    "from sklearn.model_selection import cross_val_score\n",
    "\n",
    "for pipe in list_models:\n",
    "  score = cross_val_score(pipe, x_train, y_train, scoring='neg_mean_squared_error', cv = 5)\n"
   ]
  },
  {
   "cell_type": "code",
   "execution_count": 16,
   "metadata": {
    "execution": {
     "iopub.execute_input": "2020-10-24T17:51:42.958100Z",
     "iopub.status.busy": "2020-10-24T17:51:42.957181Z",
     "iopub.status.idle": "2020-10-24T17:51:42.961476Z",
     "shell.execute_reply": "2020-10-24T17:51:42.960949Z"
    },
    "papermill": {
     "duration": 0.031882,
     "end_time": "2020-10-24T17:51:42.961604",
     "exception": false,
     "start_time": "2020-10-24T17:51:42.929722",
     "status": "completed"
    },
    "tags": []
   },
   "outputs": [
    {
     "data": {
      "text/plain": [
       "array([-5.15034457e+08, -1.09858914e+09, -1.01866971e+09, -6.24519615e+08,\n",
       "       -2.03196052e+09])"
      ]
     },
     "execution_count": 16,
     "metadata": {},
     "output_type": "execute_result"
    }
   ],
   "source": [
    "score"
   ]
  },
  {
   "cell_type": "markdown",
   "metadata": {
    "papermill": {
     "duration": 0.022174,
     "end_time": "2020-10-24T17:51:43.006296",
     "exception": false,
     "start_time": "2020-10-24T17:51:42.984122",
     "status": "completed"
    },
    "tags": []
   },
   "source": [
    "Predicting the training sets"
   ]
  },
  {
   "cell_type": "code",
   "execution_count": 17,
   "metadata": {
    "execution": {
     "iopub.execute_input": "2020-10-24T17:51:43.063269Z",
     "iopub.status.busy": "2020-10-24T17:51:43.062635Z",
     "iopub.status.idle": "2020-10-24T17:51:58.278673Z",
     "shell.execute_reply": "2020-10-24T17:51:58.277398Z"
    },
    "id": "fOR3n7Av5jJk",
    "papermill": {
     "duration": 15.249993,
     "end_time": "2020-10-24T17:51:58.278824",
     "exception": false,
     "start_time": "2020-10-24T17:51:43.028831",
     "status": "completed"
    },
    "tags": []
   },
   "outputs": [
    {
     "name": "stderr",
     "output_type": "stream",
     "text": [
      "/opt/conda/lib/python3.7/site-packages/sklearn/linear_model/_coordinate_descent.py:515: ConvergenceWarning: Objective did not converge. You might want to increase the number of iterations. Duality gap: 1788105855.6923828, tolerance: 920791133.4609975\n",
      "  max_iter, tol, rng, random, positive)\n"
     ]
    }
   ],
   "source": [
    "pipe_Linear.fit(x_train, y_train)\n",
    "a = pipe_Linear.predict(x_test)\n",
    "\n",
    "pipe_Forest.fit(x_train, y_train)\n",
    "b = pipe_Forest.predict(x_test)\n",
    "\n",
    "pipe_Tree.fit(x_train, y_train)\n",
    "c = pipe_Tree.predict(x_test)\n",
    "\n",
    "pipe_Lasso.fit(x_train, y_train)\n",
    "d = pipe_Lasso.predict(x_test)\n",
    "\n",
    "pipe_Ridge.fit(x_train, y_train)\n",
    "e = pipe_Ridge.predict(x_test)"
   ]
  },
  {
   "cell_type": "markdown",
   "metadata": {
    "id": "m8XT9BrvISPn",
    "papermill": {
     "duration": 0.02244,
     "end_time": "2020-10-24T17:51:58.325455",
     "exception": false,
     "start_time": "2020-10-24T17:51:58.303015",
     "status": "completed"
    },
    "tags": []
   },
   "source": [
    "Average value of all regression models"
   ]
  },
  {
   "cell_type": "code",
   "execution_count": 18,
   "metadata": {
    "execution": {
     "iopub.execute_input": "2020-10-24T17:51:58.377564Z",
     "iopub.status.busy": "2020-10-24T17:51:58.376553Z",
     "iopub.status.idle": "2020-10-24T17:51:58.381023Z",
     "shell.execute_reply": "2020-10-24T17:51:58.380477Z"
    },
    "id": "XBK7IwX2DD-x",
    "outputId": "59259e69-33f7-4e41-e7fd-602121d35ca2",
    "papermill": {
     "duration": 0.033075,
     "end_time": "2020-10-24T17:51:58.381146",
     "exception": false,
     "start_time": "2020-10-24T17:51:58.348071",
     "status": "completed"
    },
    "tags": []
   },
   "outputs": [
    {
     "data": {
      "text/plain": [
       "array([117407.98433398, 160861.66396775, 187458.18011005, ...,\n",
       "       164579.53940693, 104999.27823865, 219333.86477548])"
      ]
     },
     "execution_count": 18,
     "metadata": {},
     "output_type": "execute_result"
    }
   ],
   "source": [
    "combined_avg = (a + b + c + d + e)/5\n",
    "combined_avg"
   ]
  },
  {
   "cell_type": "raw",
   "metadata": {
    "papermill": {
     "duration": 0.026975,
     "end_time": "2020-10-24T17:51:58.436647",
     "exception": false,
     "start_time": "2020-10-24T17:51:58.409672",
     "status": "completed"
    },
    "tags": []
   },
   "source": [
    "Creating dataframe 'output'"
   ]
  },
  {
   "cell_type": "code",
   "execution_count": 19,
   "metadata": {
    "execution": {
     "iopub.execute_input": "2020-10-24T17:51:58.495286Z",
     "iopub.status.busy": "2020-10-24T17:51:58.494626Z",
     "iopub.status.idle": "2020-10-24T17:51:58.497786Z",
     "shell.execute_reply": "2020-10-24T17:51:58.497158Z"
    },
    "papermill": {
     "duration": 0.035878,
     "end_time": "2020-10-24T17:51:58.497930",
     "exception": false,
     "start_time": "2020-10-24T17:51:58.462052",
     "status": "completed"
    },
    "tags": []
   },
   "outputs": [],
   "source": [
    "output = pd.DataFrame()\n",
    "output[\"Id\"] = test.Id\n",
    "output[\"SalePrice\"] = combined_avg"
   ]
  },
  {
   "cell_type": "code",
   "execution_count": 20,
   "metadata": {
    "execution": {
     "iopub.execute_input": "2020-10-24T17:51:58.553810Z",
     "iopub.status.busy": "2020-10-24T17:51:58.553048Z",
     "iopub.status.idle": "2020-10-24T17:51:58.557118Z",
     "shell.execute_reply": "2020-10-24T17:51:58.556536Z"
    },
    "papermill": {
     "duration": 0.035669,
     "end_time": "2020-10-24T17:51:58.557227",
     "exception": false,
     "start_time": "2020-10-24T17:51:58.521558",
     "status": "completed"
    },
    "tags": []
   },
   "outputs": [
    {
     "data": {
      "text/html": [
       "<div>\n",
       "<style scoped>\n",
       "    .dataframe tbody tr th:only-of-type {\n",
       "        vertical-align: middle;\n",
       "    }\n",
       "\n",
       "    .dataframe tbody tr th {\n",
       "        vertical-align: top;\n",
       "    }\n",
       "\n",
       "    .dataframe thead th {\n",
       "        text-align: right;\n",
       "    }\n",
       "</style>\n",
       "<table border=\"1\" class=\"dataframe\">\n",
       "  <thead>\n",
       "    <tr style=\"text-align: right;\">\n",
       "      <th></th>\n",
       "      <th>Id</th>\n",
       "      <th>SalePrice</th>\n",
       "    </tr>\n",
       "  </thead>\n",
       "  <tbody>\n",
       "    <tr>\n",
       "      <th>0</th>\n",
       "      <td>1461</td>\n",
       "      <td>117407.984334</td>\n",
       "    </tr>\n",
       "    <tr>\n",
       "      <th>1</th>\n",
       "      <td>1462</td>\n",
       "      <td>160861.663968</td>\n",
       "    </tr>\n",
       "    <tr>\n",
       "      <th>2</th>\n",
       "      <td>1463</td>\n",
       "      <td>187458.180110</td>\n",
       "    </tr>\n",
       "    <tr>\n",
       "      <th>3</th>\n",
       "      <td>1464</td>\n",
       "      <td>190311.495815</td>\n",
       "    </tr>\n",
       "    <tr>\n",
       "      <th>4</th>\n",
       "      <td>1465</td>\n",
       "      <td>203086.358718</td>\n",
       "    </tr>\n",
       "  </tbody>\n",
       "</table>\n",
       "</div>"
      ],
      "text/plain": [
       "     Id      SalePrice\n",
       "0  1461  117407.984334\n",
       "1  1462  160861.663968\n",
       "2  1463  187458.180110\n",
       "3  1464  190311.495815\n",
       "4  1465  203086.358718"
      ]
     },
     "execution_count": 20,
     "metadata": {},
     "output_type": "execute_result"
    }
   ],
   "source": [
    "output.head()"
   ]
  },
  {
   "cell_type": "markdown",
   "metadata": {
    "papermill": {
     "duration": 0.023549,
     "end_time": "2020-10-24T17:51:58.604802",
     "exception": false,
     "start_time": "2020-10-24T17:51:58.581253",
     "status": "completed"
    },
    "tags": []
   },
   "source": [
    "Exporting \"output\" as a csv file "
   ]
  },
  {
   "cell_type": "code",
   "execution_count": 21,
   "metadata": {
    "execution": {
     "iopub.execute_input": "2020-10-24T17:51:58.657511Z",
     "iopub.status.busy": "2020-10-24T17:51:58.656855Z",
     "iopub.status.idle": "2020-10-24T17:51:59.008670Z",
     "shell.execute_reply": "2020-10-24T17:51:59.007976Z"
    },
    "papermill": {
     "duration": 0.38014,
     "end_time": "2020-10-24T17:51:59.008789",
     "exception": false,
     "start_time": "2020-10-24T17:51:58.628649",
     "status": "completed"
    },
    "tags": []
   },
   "outputs": [],
   "source": [
    "output.to_csv('submission.csv', index = False)"
   ]
  }
 ],
 "metadata": {
  "kernelspec": {
   "display_name": "Python 3",
   "language": "python",
   "name": "python3"
  },
  "language_info": {
   "codemirror_mode": {
    "name": "ipython",
    "version": 3
   },
   "file_extension": ".py",
   "mimetype": "text/x-python",
   "name": "python",
   "nbconvert_exporter": "python",
   "pygments_lexer": "ipython3",
   "version": "3.7.6"
  },
  "papermill": {
   "duration": 77.286282,
   "end_time": "2020-10-24T17:51:59.142067",
   "environment_variables": {},
   "exception": null,
   "input_path": "__notebook__.ipynb",
   "output_path": "__notebook__.ipynb",
   "parameters": {},
   "start_time": "2020-10-24T17:50:41.855785",
   "version": "2.1.0"
  }
 },
 "nbformat": 4,
 "nbformat_minor": 4
}
